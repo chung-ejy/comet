{
 "cells": [
  {
   "cell_type": "code",
   "execution_count": 1,
   "id": "290a74a2",
   "metadata": {},
   "outputs": [],
   "source": [
    "from database.comet import Comet"
   ]
  },
  {
   "cell_type": "code",
   "execution_count": 2,
   "id": "c8f59091",
   "metadata": {},
   "outputs": [],
   "source": [
    "comet = Comet(\"live\")"
   ]
  },
  {
   "cell_type": "code",
   "execution_count": 3,
   "id": "69a7a668",
   "metadata": {},
   "outputs": [
    {
     "name": "stdout",
     "output_type": "stream",
     "text": [
      "cloud_live_iterations\n",
      "cloud_live_fills\n",
      "cloud_live_errors\n",
      "cloud_live_pending_buys\n",
      "cloud_live_completed_buys\n",
      "cloud_live_pending_sells\n",
      "cloud_live_historicals\n"
     ]
    }
   ],
   "source": [
    "comet.cloud_connect()\n",
    "comet.update_collection_name(\"live\")\n",
    "comet.disconnect()"
   ]
  },
  {
   "cell_type": "code",
   "execution_count": 4,
   "id": "109ee657",
   "metadata": {},
   "outputs": [],
   "source": [
    "# comet.cloud_connect()\n",
    "# comet.update_username(\"eric\")\n",
    "# comet.disconnect"
   ]
  }
 ],
 "metadata": {
  "kernelspec": {
   "display_name": "Python 3 (ipykernel)",
   "language": "python",
   "name": "python3"
  },
  "language_info": {
   "codemirror_mode": {
    "name": "ipython",
    "version": 3
   },
   "file_extension": ".py",
   "mimetype": "text/x-python",
   "name": "python",
   "nbconvert_exporter": "python",
   "pygments_lexer": "ipython3",
   "version": "3.10.1"
  }
 },
 "nbformat": 4,
 "nbformat_minor": 5
}
