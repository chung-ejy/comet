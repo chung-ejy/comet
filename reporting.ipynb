{
 "cells": [
  {
   "cell_type": "code",
   "execution_count": 1,
   "id": "648a6865",
   "metadata": {},
   "outputs": [],
   "source": [
    "import pandas as pd\n",
    "from datetime import datetime, timedelta\n",
    "from analyzer.live_entry_strats import LiveEntryStrats as les\n",
    "from analyzer.live_exit_strats import LiveExitStrats as lxs\n",
    "from time import sleep\n",
    "from database.comet import Comet\n",
    "from coinbase.coinbase import Coinbase as cbs\n",
    "from processor.processor import Processor as p\n",
    "import pytz"
   ]
  },
  {
   "cell_type": "code",
   "execution_count": 2,
   "id": "fab6c067",
   "metadata": {},
   "outputs": [],
   "source": [
    "comet = Comet()"
   ]
  },
  {
   "cell_type": "code",
   "execution_count": 3,
   "id": "cd2ee1f8",
   "metadata": {},
   "outputs": [],
   "source": [
    "comet.cloud_connect()\n",
    "historicals = comet.retrieve(\"cloud_test_coinbase_hourly\")\n",
    "trading_params = comet.retrieve(\"btc_trading_params\")\n",
    "comet.disconnect()"
   ]
  },
  {
   "cell_type": "code",
   "execution_count": 4,
   "id": "428d5258",
   "metadata": {},
   "outputs": [
    {
     "data": {
      "text/html": [
       "<div>\n",
       "<style scoped>\n",
       "    .dataframe tbody tr th:only-of-type {\n",
       "        vertical-align: middle;\n",
       "    }\n",
       "\n",
       "    .dataframe tbody tr th {\n",
       "        vertical-align: top;\n",
       "    }\n",
       "\n",
       "    .dataframe thead th {\n",
       "        text-align: right;\n",
       "    }\n",
       "</style>\n",
       "<table border=\"1\" class=\"dataframe\">\n",
       "  <thead>\n",
       "    <tr style=\"text-align: right;\">\n",
       "      <th></th>\n",
       "      <th>signal</th>\n",
       "      <th>req</th>\n",
       "      <th>trades</th>\n",
       "      <th>pv</th>\n",
       "      <th>days</th>\n",
       "      <th>retrack_days</th>\n",
       "      <th>value</th>\n",
       "      <th>conservative</th>\n",
       "      <th>entry_strategy</th>\n",
       "      <th>exit_strategy</th>\n",
       "    </tr>\n",
       "  </thead>\n",
       "  <tbody>\n",
       "    <tr>\n",
       "      <th>0</th>\n",
       "      <td>0.01</td>\n",
       "      <td>0.05</td>\n",
       "      <td>11</td>\n",
       "      <td>285.311671</td>\n",
       "      <td>12.272727</td>\n",
       "      <td>3</td>\n",
       "      <td>False</td>\n",
       "      <td>True</td>\n",
       "      <td>standard</td>\n",
       "      <td>hold</td>\n",
       "    </tr>\n",
       "  </tbody>\n",
       "</table>\n",
       "</div>"
      ],
      "text/plain": [
       "   signal   req  trades          pv       days  retrack_days  value  \\\n",
       "0    0.01  0.05      11  285.311671  12.272727             3  False   \n",
       "\n",
       "   conservative entry_strategy exit_strategy  \n",
       "0          True       standard          hold  "
      ]
     },
     "execution_count": 4,
     "metadata": {},
     "output_type": "execute_result"
    }
   ],
   "source": [
    "trading_params"
   ]
  },
  {
   "cell_type": "code",
   "execution_count": 5,
   "id": "e022786d",
   "metadata": {},
   "outputs": [],
   "source": [
    "offerings = les.entry_analysis(\n",
    "            trading_params[\"entry_strategy\"].item()\n",
    "           ,historicals\n",
    "           ,trading_params[\"signal\"].item()\n",
    "           ,trading_params[\"value\"].item()\n",
    "           ,trading_params[\"conservative\"].item()\n",
    "            )"
   ]
  },
  {
   "cell_type": "code",
   "execution_count": 6,
   "id": "817c7284",
   "metadata": {},
   "outputs": [],
   "source": [
    "accounts = cbs.get_accounts()\n",
    "balance = accounts[accounts[\"currency\"]==\"USD\"][\"balance\"].iloc[0]\n",
    "pending_orders = cbs.get_orders()\n",
    "pending_orders = p.live_column_date_processing(pending_orders.rename(columns={\"created_at\":\"date\"}))\n",
    "fls = []\n",
    "status = \"fills\"\n",
    "for currency in accounts[\"currency\"].unique():\n",
    "    fill = cbs.get_fill(currency)\n",
    "    if len(fill) > 0:\n",
    "        try:\n",
    "            f = pd.DataFrame(fill)\n",
    "            fls.append(f)\n",
    "        except:\n",
    "            continue\n",
    "## sells\n",
    "if len(fls) > 0:\n",
    "    fills = pd.concat(fls)\n",
    "    #store_non_existing_executed_buy\n",
    "    existing_fills = comet.retrieve_fills()\n",
    "    if existing_fills.index.size > 1:\n",
    "        existing_order_ids = list(existing_fills[\"order_id\"])\n",
    "    else:\n",
    "        existing_order_ids = []\n",
    "    new_fills = fills[~fills[\"order_id\"].isin(existing_order_ids)]        \n",
    "    if new_fills.index.size > 0:\n",
    "        incomplete_trades = new_fills[(new_fills[\"side\"]==\"buy\")]\n",
    "        incomplete_trades[\"size\"] = [float(x) for x in incomplete_trades[\"size\"]]\n",
    "        incomplete_trades[\"price\"] = [float(x) for x in incomplete_trades[\"price\"]]\n",
    "        for oi in incomplete_trades[\"order_id\"].unique():\n",
    "            order_trades = incomplete_trades[incomplete_trades[\"order_id\"]==oi]\n",
    "            if len([x for x in order_trades[\"settled\"] if x == False]) == 0 and order_trades.index.size > 0:\n",
    "                incomplete_trade = lxs.exit_analysis(exit_strategy,merged,order_trades,retrack_days,req)\n",
    "                if \"sell_price\" in incomplete_trade.keys():\n",
    "                    sell_statement = cbs.place_sell(incomplete_trade[\"product_id\"]\n",
    "                                                    ,incomplete_trade[\"sell_price\"]\n",
    "                                                    ,incomplete_trade[\"size\"])\n",
    "                    incomplete_trade[\"sell_id\"] = sell_statement[\"id\"]"
   ]
  },
  {
   "cell_type": "code",
   "execution_count": 7,
   "id": "563370ed",
   "metadata": {},
   "outputs": [],
   "source": [
    "if new_fills.index.size > 0:\n",
    "    completed_trades = new_fills[(new_fills[\"side\"]==\"sell\")]\n",
    "    for soi in completed_trades[\"order_id\"].unique():\n",
    "        sell_order_trades = completed_trades[completed_trades[\"order_id\"]==soi]\n",
    "        if len([x for x in sell_order_trades[\"settled\"] if x == False]) == 0:\n",
    "            complete_trade = sell_order_trades.iloc[0]\n",
    "            order_id = complete_trade[\"order_id\"]\n",
    "            one_half = comet.retrieve_incomplete_trade(order_id)\n",
    "            one_half[\"sell_date\"] = complete_trade[\"created_at\"]\n",
    "            one_half[\"sell_price\"] = complete_trade[\"price\"]"
   ]
  },
  {
   "cell_type": "code",
   "execution_count": 10,
   "id": "4c0a6500",
   "metadata": {},
   "outputs": [
    {
     "data": {
      "text/html": [
       "<div>\n",
       "<style scoped>\n",
       "    .dataframe tbody tr th:only-of-type {\n",
       "        vertical-align: middle;\n",
       "    }\n",
       "\n",
       "    .dataframe tbody tr th {\n",
       "        vertical-align: top;\n",
       "    }\n",
       "\n",
       "    .dataframe thead th {\n",
       "        text-align: right;\n",
       "    }\n",
       "</style>\n",
       "<table border=\"1\" class=\"dataframe\">\n",
       "  <thead>\n",
       "    <tr style=\"text-align: right;\">\n",
       "      <th></th>\n",
       "      <th>created_at</th>\n",
       "      <th>trade_id</th>\n",
       "      <th>product_id</th>\n",
       "      <th>order_id</th>\n",
       "      <th>user_id</th>\n",
       "      <th>profile_id</th>\n",
       "      <th>liquidity</th>\n",
       "      <th>price</th>\n",
       "      <th>size</th>\n",
       "      <th>fee</th>\n",
       "      <th>side</th>\n",
       "      <th>settled</th>\n",
       "      <th>usd_volume</th>\n",
       "    </tr>\n",
       "  </thead>\n",
       "  <tbody>\n",
       "  </tbody>\n",
       "</table>\n",
       "</div>"
      ],
      "text/plain": [
       "Empty DataFrame\n",
       "Columns: [created_at, trade_id, product_id, order_id, user_id, profile_id, liquidity, price, size, fee, side, settled, usd_volume]\n",
       "Index: []"
      ]
     },
     "execution_count": 10,
     "metadata": {},
     "output_type": "execute_result"
    }
   ],
   "source": [
    "new_fills"
   ]
  }
 ],
 "metadata": {
  "kernelspec": {
   "display_name": "Python 3 (ipykernel)",
   "language": "python",
   "name": "python3"
  },
  "language_info": {
   "codemirror_mode": {
    "name": "ipython",
    "version": 3
   },
   "file_extension": ".py",
   "mimetype": "text/x-python",
   "name": "python",
   "nbconvert_exporter": "python",
   "pygments_lexer": "ipython3",
   "version": "3.10.1"
  }
 },
 "nbformat": 4,
 "nbformat_minor": 5
}
