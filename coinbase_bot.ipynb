{
 "cells": [
  {
   "cell_type": "code",
   "execution_count": 1,
   "id": "8f37a734",
   "metadata": {},
   "outputs": [],
   "source": [
    "import requests\n",
    "import pandas as pd\n",
    "from datetime import datetime, timedelta, date, timezone\n",
    "from analyzer.live_entry_strats import LiveEntryStrats as les\n",
    "from analyzer.live_exit_strats import LiveExitStrats as lxs\n",
    "from time import sleep\n",
    "import time\n",
    "from database.comet import Comet\n",
    "from tqdm import tqdm\n",
    "from coinbase.coinbase_sandbox import CoinbaseSandbox as cbs\n",
    "from processor.processor import Processor as p\n",
    "import pytz"
   ]
  },
  {
   "cell_type": "code",
   "execution_count": 2,
   "id": "c87c2d99",
   "metadata": {},
   "outputs": [],
   "source": [
    "comet = Comet()"
   ]
  },
  {
   "cell_type": "code",
   "execution_count": 3,
   "id": "d08c9361",
   "metadata": {},
   "outputs": [],
   "source": [
    "whitelist_symbols = ['ADA', 'BTC', 'DOGE', 'ETH', 'SHIB', 'WLUNA','AVAX', 'LTC', 'DOT']"
   ]
  },
  {
   "cell_type": "code",
   "execution_count": 10,
   "id": "205d982e",
   "metadata": {},
   "outputs": [],
   "source": [
    "retrack_days = 3\n",
    "req = 0.02\n",
    "signal = 0.01\n",
    "value = True\n",
    "conservative = True\n",
    "entry_strategy = \"standard\"\n",
    "exit_strategy = \"hold\"\n",
    "fee = 0.005\n",
    "minimum_rows = retrack_days * 3"
   ]
  },
  {
   "cell_type": "code",
   "execution_count": 22,
   "id": "8b1cb763",
   "metadata": {},
   "outputs": [
    {
     "name": "stdout",
     "output_type": "stream",
     "text": [
      "ADA single positional indexer is out-of-bounds\n",
      "DOGE single positional indexer is out-of-bounds\n",
      "ETH single positional indexer is out-of-bounds\n",
      "SHIB single positional indexer is out-of-bounds\n",
      "WLUNA single positional indexer is out-of-bounds\n",
      "AVAX single positional indexer is out-of-bounds\n",
      "LTC single positional indexer is out-of-bounds\n",
      "DOT single positional indexer is out-of-bounds\n"
     ]
    }
   ],
   "source": [
    "##CONSTANTS\n",
    "comet.connect()\n",
    "end = datetime.now().astimezone(pytz.UTC)\n",
    "start = (end - timedelta(days=30)).astimezone(pytz.UTC)\n",
    "accounts = cbs.get_accounts()\n",
    "balance = accounts[accounts[\"currency\"]==\"USD\"][\"balance\"].iloc[0]\n",
    "pending_orders = cbs.get_orders()\n",
    "pending_orders = p.live_column_date_processing(pending_orders.rename(columns={\"created_at\":\"date\"}))\n",
    "spots = []\n",
    "historicals = []\n",
    "for currency in whitelist_symbols:\n",
    "    try:\n",
    "        spot = cbs.get_current_price(currency)\n",
    "        historical = cbs.get_timeframe_prices(currency,end,minimum_rows)\n",
    "        spot[\"crypto\"] = currency\n",
    "        if \"message\" not in list(spot.keys()):\n",
    "            spots.append(spot)\n",
    "        historicals.append(historical)\n",
    "    except:\n",
    "        print(currency)\n",
    "        continue\n",
    "current_spots = pd.DataFrame(spots)\n",
    "current_historicals = pd.concat(historicals)\n",
    "current_historicals.sort_values(\"date\",inplace=True)\n",
    "ns = []\n",
    "for crypto in whitelist_symbols:\n",
    "    try:\n",
    "        crypto_sim = current_historicals[current_historicals[\"crypto\"]==crypto].copy()\n",
    "        crypto_sim.sort_values(\"date\",inplace=True)\n",
    "        crypto_sim[\"signal\"] = crypto_sim[\"close\"].pct_change(retrack_days)\n",
    "        crypto_sim[\"velocity\"] = crypto_sim[\"signal\"].pct_change()\n",
    "        crypto_sim[\"inflection\"] = crypto_sim[\"velocity\"].pct_change()\n",
    "        crypto_sim[\"p_sign_change\"] = [row[1][\"velocity\"] * row[1][\"inflection\"] < 0 for row in crypto_sim.iterrows()]\n",
    "        ns.append(crypto_sim.iloc[-1])\n",
    "    except Exception as e:\n",
    "        print(crypto,str(e))\n",
    "final = pd.DataFrame(ns)\n",
    "merged = final.merge(current_spots.drop(\"volume\",axis=1),on=\"crypto\")\n",
    "merged[\"ask\"] = [float(x) for x in merged[\"ask\"]]\n",
    "merged[\"bid\"] = [float(x) for x in merged[\"bid\"]]\n",
    "merged[\"price\"] = [float(x) for x in merged[\"price\"]]\n",
    "comet.store(\"coinbase_hourly\",merged)\n",
    "fls = []\n",
    "for currency in accounts[\"currency\"].unique():\n",
    "    fill = cbs.get_fill(currency)\n",
    "    if len(fill) > 0:\n",
    "        try:\n",
    "            f = pd.DataFrame(fill)\n",
    "            fls.append(f)\n",
    "        except:\n",
    "            continue\n",
    "## sells\n",
    "if len(fls) > 0:\n",
    "    fills = pd.concat(fls)\n",
    "    #store_non_existing_executed_buy\n",
    "    existing_fills = comet.retrieve_fills()\n",
    "    if existing_fills.index.size > 1:\n",
    "        new_fills = fills[~fills[\"order_id\"].isin(list(existing_fills[\"order_id\"]))]\n",
    "        if new_fills.index.size > 1:\n",
    "            incomplete_trades = new_fills[(new_fills[\"side\"]==\"buy\")]\n",
    "            incomplete_sells = new_fills[(new_fills[\"side\"]==\"sell\")]\n",
    "            incomplete_trades[\"size\"] = [float(x) for x in incomplete_trades[\"size\"]]\n",
    "            incomplete_trades[\"price\"] = [float(x) for x in incomplete_trades[\"price\"]]\n",
    "            for oi in incomplete_trades[\"order_id\"].unique():\n",
    "                order_trades = incomplete_trades[incomplete_trades[\"order_id\"]==oi]\n",
    "                if len([x for x in order_trades[\"settled\"] if x == False]) == 0 and order_trades.index.size > 1:\n",
    "                    comet.store(\"fills\",order_trades)\n",
    "                    incomplete_trade = lxs.exit_analysis(exit_strategy,merged,order_trades,rt,req)\n",
    "                    if \"sell_price\" in incomplete_trade.keys():\n",
    "                        sell_statement = cbs.place_sell(incomplete_trade[\"product_id\"]\n",
    "                                                        ,incomplete_trade[\"sell_price\"]\n",
    "                                                        ,incomplete_trade[\"size\"])\n",
    "                        comet.store(\"orders\",pd.DataFrame([sell_statement]))\n",
    "                        incomplete_trade[\"sell_id\"] = sell_statement[\"id\"]\n",
    "                        comet.store(\"incomplete_trades\",pd.DataFrame([incomplete_trade]))\n",
    "            completed_trades = new_fills[(new_fills[\"side\"]==\"sell\")]\n",
    "            for soi in completed_trades[\"order_id\"].unique():\n",
    "                sell_order_trades = completed_trades[completed_trades[\"order_id\"]==soi]\n",
    "                if len([x for x in sell_order_trades[\"settled\"] if x == False]) == 0:\n",
    "                    comet.store(\"fills\",sell_order_trades)\n",
    "                    complete_trade = sell_order_trades.iloc[0]\n",
    "                    order_id = complete_trade[\"order_id\"]\n",
    "                    one_half = comet.retrieve_incomplete_trade(order_id)\n",
    "                    one_half[\"sell_date\"] = complete_trade[\"created_at\"]\n",
    "                    one_half[\"sell_price\"] = complete_trade[\"price\"]\n",
    "                    comet.store(\"complete_trades\",one_half)\n",
    "# ##buys\n",
    "if balance > 1:\n",
    "    offerings = les.entry_analysis(entry_strategy,merged,signal,value,conservative)\n",
    "    ##BUYS\n",
    "    if offerings.index.size > 0:\n",
    "        trade = offerings.iloc[0]\n",
    "        buy_price = float(trade[\"bid\"])\n",
    "        size = round(float(balance/(buy_price*(1+fee))),6)\n",
    "        buy = cbs.place_buy(\"BTC\",buy_price,size)\n",
    "        comet.store(\"orders\",pd.DataFrame([buy]))\n",
    "comet.disconnect()"
   ]
  },
  {
   "cell_type": "code",
   "execution_count": 23,
   "id": "012f687f",
   "metadata": {},
   "outputs": [
    {
     "ename": "NameError",
     "evalue": "name 'incomplete_trade' is not defined",
     "output_type": "error",
     "traceback": [
      "\u001b[1;31m---------------------------------------------------------------------------\u001b[0m",
      "\u001b[1;31mNameError\u001b[0m                                 Traceback (most recent call last)",
      "\u001b[1;32m~\\AppData\\Local\\Temp/ipykernel_13720/2869906526.py\u001b[0m in \u001b[0;36m<module>\u001b[1;34m\u001b[0m\n\u001b[1;32m----> 1\u001b[1;33m \u001b[0mincomplete_trade\u001b[0m\u001b[1;33m\u001b[0m\u001b[1;33m\u001b[0m\u001b[0m\n\u001b[0m",
      "\u001b[1;31mNameError\u001b[0m: name 'incomplete_trade' is not defined"
     ]
    }
   ],
   "source": [
    "incomplete_trade"
   ]
  }
 ],
 "metadata": {
  "kernelspec": {
   "display_name": "Python 3 (ipykernel)",
   "language": "python",
   "name": "python3"
  },
  "language_info": {
   "codemirror_mode": {
    "name": "ipython",
    "version": 3
   },
   "file_extension": ".py",
   "mimetype": "text/x-python",
   "name": "python",
   "nbconvert_exporter": "python",
   "pygments_lexer": "ipython3",
   "version": "3.10.1"
  }
 },
 "nbformat": 4,
 "nbformat_minor": 5
}
