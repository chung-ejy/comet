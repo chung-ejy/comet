{
 "cells": [
  {
   "cell_type": "code",
   "execution_count": 1,
   "id": "706a5225",
   "metadata": {},
   "outputs": [],
   "source": [
    "position_size = 100\n",
    "buy_price = 35000\n",
    "round_value = 2\n",
    "for i in range(2,9):\n",
    "    if float(position_size / buy_price) > 10 **-i:\n",
    "        round_value = i + 1\n",
    "        break\n",
    "    else:\n",
    "        continue"
   ]
  },
  {
   "cell_type": "code",
   "execution_count": 4,
   "id": "3ae3aad2",
   "metadata": {},
   "outputs": [
    {
     "data": {
      "text/plain": [
       "0.0033"
      ]
     },
     "execution_count": 4,
     "metadata": {},
     "output_type": "execute_result"
    }
   ],
   "source": [
    "size = round(float(position_size/(buy_price*(1+0.005))),round_value)\n",
    "size"
   ]
  }
 ],
 "metadata": {
  "kernelspec": {
   "display_name": "Python 3 (ipykernel)",
   "language": "python",
   "name": "python3"
  },
  "language_info": {
   "codemirror_mode": {
    "name": "ipython",
    "version": 3
   },
   "file_extension": ".py",
   "mimetype": "text/x-python",
   "name": "python",
   "nbconvert_exporter": "python",
   "pygments_lexer": "ipython3",
   "version": "3.10.1"
  }
 },
 "nbformat": 4,
 "nbformat_minor": 5
}
