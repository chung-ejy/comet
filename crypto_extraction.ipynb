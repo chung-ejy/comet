{
 "cells": [
  {
   "cell_type": "code",
   "execution_count": 1,
   "id": "6c20e101",
   "metadata": {},
   "outputs": [],
   "source": [
    "import pandas as pd\n",
    "from datetime import datetime, timedelta, date, timezone\n",
    "from time import sleep\n",
    "import time\n",
    "from database.comet import Comet\n",
    "from tqdm import tqdm\n",
    "from coinbase.coinbase import Coinbase"
   ]
  },
  {
   "cell_type": "code",
   "execution_count": 2,
   "id": "70169cca",
   "metadata": {},
   "outputs": [],
   "source": [
    "coinbase_api = Coinbase()\n",
    "comet = Comet()"
   ]
  },
  {
   "cell_type": "code",
   "execution_count": null,
   "id": "e4221073",
   "metadata": {},
   "outputs": [],
   "source": [
    "comet.connect()\n",
    "for crypto in tqdm(active_crypto[\"base_currency\"]):\n",
    "    start_year = 2015\n",
    "    start = (datetime(start_year,1,1))\n",
    "    end = (datetime(start_year,1,1) + timedelta(days=299))\n",
    "    while start < datetime(2022,1,1):\n",
    "        try:\n",
    "            results = coinbase_api.get_prices(crypto,start,end)\n",
    "            comet.store(\"coinbase_prices\",results)\n",
    "        except Exception as e:\n",
    "            print(product_id,start,end,str(e))\n",
    "        start = end\n",
    "        days = min(299,(datetime(2022,1,1) - start).days)\n",
    "        end = start + timedelta(days=days)\n",
    "comet.disconnect()"
   ]
  }
 ],
 "metadata": {
  "kernelspec": {
   "display_name": "Python 3 (ipykernel)",
   "language": "python",
   "name": "python3"
  },
  "language_info": {
   "codemirror_mode": {
    "name": "ipython",
    "version": 3
   },
   "file_extension": ".py",
   "mimetype": "text/x-python",
   "name": "python",
   "nbconvert_exporter": "python",
   "pygments_lexer": "ipython3",
   "version": "3.10.1"
  }
 },
 "nbformat": 4,
 "nbformat_minor": 5
}
