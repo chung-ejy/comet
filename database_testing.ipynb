{
 "cells": [
  {
   "cell_type": "code",
   "execution_count": 1,
   "id": "ec280ed8",
   "metadata": {},
   "outputs": [],
   "source": [
    "from database.comet import Comet\n",
    "import pandas as pd"
   ]
  },
  {
   "cell_type": "code",
   "execution_count": 2,
   "id": "22d74fb9",
   "metadata": {},
   "outputs": [],
   "source": [
    "comet = Comet()\n",
    "comet.connect()\n",
    "comet.store(\"test\",pd.DataFrame([{\"test\":\"test\"}]))\n",
    "comet.disconnect()"
   ]
  }
 ],
 "metadata": {
  "kernelspec": {
   "display_name": "Python 3 (ipykernel)",
   "language": "python",
   "name": "python3"
  },
  "language_info": {
   "codemirror_mode": {
    "name": "ipython",
    "version": 3
   },
   "file_extension": ".py",
   "mimetype": "text/x-python",
   "name": "python",
   "nbconvert_exporter": "python",
   "pygments_lexer": "ipython3",
   "version": "3.10.1"
  }
 },
 "nbformat": 4,
 "nbformat_minor": 5
}
