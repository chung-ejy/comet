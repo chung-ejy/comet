{
 "cells": [
  {
   "cell_type": "code",
   "execution_count": 6,
   "id": "8f37a734",
   "metadata": {},
   "outputs": [],
   "source": [
    "import requests\n",
    "import pandas as pd\n",
    "from datetime import datetime, timedelta\n",
    "from time import sleep\n",
    "# from dotenv import load_dotenv\n",
    "# load_dotenv()\n",
    "# import os\n",
    "# bearer = os.getenv(\"TWITTERBEARER\")"
   ]
  },
  {
   "cell_type": "code",
   "execution_count": 2,
   "id": "093b9759",
   "metadata": {},
   "outputs": [],
   "source": [
    "market = pd.read_csv(\"./data/crypto_test.csv\")"
   ]
  },
  {
   "cell_type": "code",
   "execution_count": 4,
   "id": "d741a575",
   "metadata": {},
   "outputs": [],
   "source": [
    "market.sort_values(\"date\",inplace=True)"
   ]
  },
  {
   "cell_type": "code",
   "execution_count": 5,
   "id": "d70e5d9c",
   "metadata": {},
   "outputs": [
    {
     "data": {
      "text/html": [
       "<div>\n",
       "<style scoped>\n",
       "    .dataframe tbody tr th:only-of-type {\n",
       "        vertical-align: middle;\n",
       "    }\n",
       "\n",
       "    .dataframe tbody tr th {\n",
       "        vertical-align: top;\n",
       "    }\n",
       "\n",
       "    .dataframe thead th {\n",
       "        text-align: right;\n",
       "    }\n",
       "</style>\n",
       "<table border=\"1\" class=\"dataframe\">\n",
       "  <thead>\n",
       "    <tr style=\"text-align: right;\">\n",
       "      <th></th>\n",
       "      <th>Unnamed: 0</th>\n",
       "      <th>date</th>\n",
       "      <th>btc</th>\n",
       "      <th>eth</th>\n",
       "    </tr>\n",
       "  </thead>\n",
       "  <tbody>\n",
       "    <tr>\n",
       "      <th>0</th>\n",
       "      <td>0</td>\n",
       "      <td>2021-01-01 00:00:59.977129</td>\n",
       "      <td>29026.97</td>\n",
       "      <td>738.90</td>\n",
       "    </tr>\n",
       "    <tr>\n",
       "      <th>1</th>\n",
       "      <td>1</td>\n",
       "      <td>2021-01-01 00:01:58.468112</td>\n",
       "      <td>29079.56</td>\n",
       "      <td>738.90</td>\n",
       "    </tr>\n",
       "    <tr>\n",
       "      <th>2</th>\n",
       "      <td>2</td>\n",
       "      <td>2021-01-01 00:01:59.062990</td>\n",
       "      <td>29079.56</td>\n",
       "      <td>740.33</td>\n",
       "    </tr>\n",
       "    <tr>\n",
       "      <th>3</th>\n",
       "      <td>3</td>\n",
       "      <td>2021-01-01 00:02:58.302087</td>\n",
       "      <td>29053.76</td>\n",
       "      <td>740.33</td>\n",
       "    </tr>\n",
       "    <tr>\n",
       "      <th>4</th>\n",
       "      <td>4</td>\n",
       "      <td>2021-01-01 00:02:58.382793</td>\n",
       "      <td>29053.76</td>\n",
       "      <td>739.48</td>\n",
       "    </tr>\n",
       "    <tr>\n",
       "      <th>...</th>\n",
       "      <td>...</td>\n",
       "      <td>...</td>\n",
       "      <td>...</td>\n",
       "      <td>...</td>\n",
       "    </tr>\n",
       "    <tr>\n",
       "      <th>199994</th>\n",
       "      <td>199994</td>\n",
       "      <td>2021-03-11 10:42:58.686812</td>\n",
       "      <td>55168.19</td>\n",
       "      <td>1753.06</td>\n",
       "    </tr>\n",
       "    <tr>\n",
       "      <th>199995</th>\n",
       "      <td>199995</td>\n",
       "      <td>2021-03-11 10:42:59.101644</td>\n",
       "      <td>55168.19</td>\n",
       "      <td>1755.44</td>\n",
       "    </tr>\n",
       "    <tr>\n",
       "      <th>199996</th>\n",
       "      <td>199996</td>\n",
       "      <td>2021-03-11 10:43:55.651832</td>\n",
       "      <td>55224.00</td>\n",
       "      <td>1755.44</td>\n",
       "    </tr>\n",
       "    <tr>\n",
       "      <th>199997</th>\n",
       "      <td>199997</td>\n",
       "      <td>2021-03-11 10:44:59.910494</td>\n",
       "      <td>55110.93</td>\n",
       "      <td>1755.44</td>\n",
       "    </tr>\n",
       "    <tr>\n",
       "      <th>199998</th>\n",
       "      <td>199998</td>\n",
       "      <td>2021-03-11 10:45:59.982523</td>\n",
       "      <td>55132.72</td>\n",
       "      <td>1755.44</td>\n",
       "    </tr>\n",
       "  </tbody>\n",
       "</table>\n",
       "<p>199999 rows × 4 columns</p>\n",
       "</div>"
      ],
      "text/plain": [
       "        Unnamed: 0                        date       btc      eth\n",
       "0                0  2021-01-01 00:00:59.977129  29026.97   738.90\n",
       "1                1  2021-01-01 00:01:58.468112  29079.56   738.90\n",
       "2                2  2021-01-01 00:01:59.062990  29079.56   740.33\n",
       "3                3  2021-01-01 00:02:58.302087  29053.76   740.33\n",
       "4                4  2021-01-01 00:02:58.382793  29053.76   739.48\n",
       "...            ...                         ...       ...      ...\n",
       "199994      199994  2021-03-11 10:42:58.686812  55168.19  1753.06\n",
       "199995      199995  2021-03-11 10:42:59.101644  55168.19  1755.44\n",
       "199996      199996  2021-03-11 10:43:55.651832  55224.00  1755.44\n",
       "199997      199997  2021-03-11 10:44:59.910494  55110.93  1755.44\n",
       "199998      199998  2021-03-11 10:45:59.982523  55132.72  1755.44\n",
       "\n",
       "[199999 rows x 4 columns]"
      ]
     },
     "execution_count": 5,
     "metadata": {},
     "output_type": "execute_result"
    }
   ],
   "source": [
    "market"
   ]
  },
  {
   "cell_type": "code",
   "execution_count": 9,
   "id": "b36e9af8",
   "metadata": {},
   "outputs": [
    {
     "data": {
      "text/plain": [
       "0        2021-01-01 00:00:59.977129\n",
       "1        2021-01-01 00:01:58.468112\n",
       "2        2021-01-01 00:01:59.062990\n",
       "3        2021-01-01 00:02:58.302087\n",
       "4        2021-01-01 00:02:58.382793\n",
       "                    ...            \n",
       "199994   2021-03-11 10:42:58.686812\n",
       "199995   2021-03-11 10:42:59.101644\n",
       "199996   2021-03-11 10:43:55.651832\n",
       "199997   2021-03-11 10:44:59.910494\n",
       "199998   2021-03-11 10:45:59.982523\n",
       "Name: date, Length: 199999, dtype: datetime64[ns]"
      ]
     },
     "execution_count": 9,
     "metadata": {},
     "output_type": "execute_result"
    }
   ],
   "source": [
    "market[\"date\"] = pd.to_datetime(market[\"date\"])\n",
    "market[\"date\"]"
   ]
  },
  {
   "cell_type": "code",
   "execution_count": 15,
   "id": "8b1cb763",
   "metadata": {},
   "outputs": [
    {
     "name": "stdout",
     "output_type": "stream",
     "text": [
      "2021-01-03 17:07:59.860246 32785.37\n",
      "{'buy_date': Timestamp('2021-01-04 09:34:59.867761'), 'buy_price': 31116.62, 'amount': 0.006427433313772511, 'sell_date': Timestamp('2021-01-06 20:55:59.798936'), 'sell_price': 36096.77}\n",
      "2021-01-08 22:14:59.739615 39937.17\n",
      "{'buy_date': Timestamp('2021-01-10 17:35:59.916980'), 'buy_price': 37765.94, 'amount': 0.006143355150635311, 'sell_date': Timestamp('2021-02-08 13:24:59.991773'), 'sell_price': 44280.1}\n",
      "2021-02-09 11:19:59.603813 46082.53\n",
      "2021-02-12 04:51:59.381061 47007.0\n",
      "2021-02-14 21:59:59.616469 48871.57\n",
      "{'buy_date': Timestamp('2021-02-15 02:21:59.942011'), 'buy_price': 46063.99, 'amount': 0.00590544545545548, 'sell_date': Timestamp('2021-02-19 15:44:59.924929'), 'sell_price': 53796.0}\n",
      "2021-02-22 05:01:59.586520 55950.28\n"
     ]
    }
   ],
   "source": [
    "balance = 200\n",
    "order = {}\n",
    "tracking = market.iloc[0][\"btc\"]\n",
    "status = \"entry\"\n",
    "start = market[\"date\"].iloc[0]\n",
    "end = market[\"date\"].iloc[-1]\n",
    "date = start\n",
    "signal = 0.05\n",
    "req = 0.1\n",
    "retrack_days = 1\n",
    "trades = []\n",
    "tracking_time = 0\n",
    "while date < end:\n",
    "    try:\n",
    "        ## pull current prices\n",
    "        current_market = market[market[\"date\"]>=date].iloc[0]\n",
    "        current_price = current_market[\"btc\"]\n",
    "        current_date = current_market[\"date\"]\n",
    "        ## entry order\n",
    "        if len(order.keys()) < 1 and balance > 0:\n",
    "            ## successful entry\n",
    "            if (current_price - tracking) / tracking <= -1 * signal:\n",
    "                order = {\"buy_date\":current_date,\"buy_price\":current_price,\"amount\": float(balance/current_price)}\n",
    "                balance = 0\n",
    "                date = current_date + timedelta(minutes=1)\n",
    "                status = \"buy\"\n",
    "            ## refresh tracking price\n",
    "            else:\n",
    "                if tracking_time >= 2880:\n",
    "                    tracking = current_price\n",
    "                    print(date,tracking)\n",
    "                    tracking_time = 0\n",
    "                    date = current_date + timedelta(minutes=1)\n",
    "                else:\n",
    "                    tracking_time += 1\n",
    "                    date = current_date + timedelta(minutes=1)\n",
    "        ## sell order\n",
    "        else:\n",
    "            ## successful sell order\n",
    "            if \"buy_price\" in order.keys() and balance < 1:\n",
    "                if (current_price - tracking) / tracking >= req:\n",
    "                    order[\"sell_date\"] = current_date\n",
    "                    order[\"sell_price\"] = current_price\n",
    "                    balance = order[\"amount\"] * order[\"sell_price\"]\n",
    "                    tracking = current_price\n",
    "                    trades.append(order)\n",
    "                    print(order)\n",
    "                    order = {}\n",
    "                ## requirement not met\n",
    "                else:\n",
    "                    date = current_date + timedelta(minutes=1)\n",
    "            else:\n",
    "                break\n",
    "    except Exception as e:\n",
    "        print(date,str(e))"
   ]
  },
  {
   "cell_type": "code",
   "execution_count": 17,
   "id": "ec41b89f",
   "metadata": {},
   "outputs": [
    {
     "data": {
      "text/plain": [
       "317.68934372168303"
      ]
     },
     "execution_count": 17,
     "metadata": {},
     "output_type": "execute_result"
    }
   ],
   "source": [
    "t = pd.DataFrame(trades)\n",
    "t.iloc[-1][\"sell_price\"] * t.iloc[-1][\"amount\"]"
   ]
  },
  {
   "cell_type": "code",
   "execution_count": null,
   "id": "144114f4",
   "metadata": {},
   "outputs": [],
   "source": [
    "##check account balance\n",
    "##check existing orders\n",
    "##check tracking price\n",
    "##check status\n",
    "##if no orders and available balance:\n",
    "### pull market prices\n",
    "### input buy_order(tracking_price * (1-req))\n",
    "### status = buy\n",
    "###elif order and no available balance:\n",
    "### if order is buy:\n",
    "###     input sell_ordeR(tracking_price) * (1*req)\n",
    "### else:\n",
    "###.    status = sell\n",
    "###else if no_order and no available_balance:\n",
    "### db.send(\"fcked\")\n",
    "### sleep(5mins)"
   ]
  },
  {
   "cell_type": "code",
   "execution_count": null,
   "id": "eb597369",
   "metadata": {},
   "outputs": [],
   "source": [
    "https://api.twitter.com/2/tweets/counts/recent?query=ethereum"
   ]
  },
  {
   "cell_type": "code",
   "execution_count": 2,
   "id": "c1e67875",
   "metadata": {},
   "outputs": [
    {
     "name": "stdout",
     "output_type": "stream",
     "text": [
      "{\"message\":\"Unauthorized.\"}\n"
     ]
    }
   ],
   "source": [
    "accounts = \"https://api-public.sandbox.exchange.coinbase.com/accounts\"\n",
    "spot_prices = \"https://api.exchange.coinbase.com/products/product_id/ticker\"\n",
    "orders = \"https://api.exchange.coinbase.com/orders?sortedBy=created_at&sorting=desc&limit=100&status=%5B%27open%27%2C%20%27pending%27%5D\"\n",
    "\n",
    "headers = {\"Accept\": \"application/json\"}\n",
    "\n",
    "response = requests.request(\"GET\", url, headers=headers)\n",
    "\n",
    "print(response.text)"
   ]
  },
  {
   "cell_type": "code",
   "execution_count": null,
   "id": "80f85477",
   "metadata": {},
   "outputs": [],
   "source": [
    "import requests\n",
    "### order example\n",
    "url = \"https://api.exchange.coinbase.com/orders\"\n",
    "\n",
    "payload = {\n",
    "    \"profile_id\": \"default profile_id\",\n",
    "    \"type\": \"limit\",\n",
    "    \"side\": \"buy\",\n",
    "    \"stp\": \"dc\",\n",
    "    \"stop\": \"loss\",\n",
    "    \"time_in_force\": \"GTC\",\n",
    "    \"cancel_after\": \"min\",\n",
    "    \"post_only\": \"false\"\n",
    "}\n",
    "headers = {\n",
    "    \"Accept\": \"application/json\",\n",
    "    \"Content-Type\": \"application/json\"\n",
    "}\n",
    "\n",
    "response = requests.request(\"POST\", url, json=payload, headers=headers)\n",
    "\n",
    "print(response.text)"
   ]
  }
 ],
 "metadata": {
  "kernelspec": {
   "display_name": "Python 3 (ipykernel)",
   "language": "python",
   "name": "python3"
  },
  "language_info": {
   "codemirror_mode": {
    "name": "ipython",
    "version": 3
   },
   "file_extension": ".py",
   "mimetype": "text/x-python",
   "name": "python",
   "nbconvert_exporter": "python",
   "pygments_lexer": "ipython3",
   "version": "3.10.1"
  }
 },
 "nbformat": 4,
 "nbformat_minor": 5
}
