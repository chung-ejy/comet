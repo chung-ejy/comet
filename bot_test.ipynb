{
 "cells": [
  {
   "cell_type": "code",
   "execution_count": null,
   "id": "8b1cb763",
   "metadata": {},
   "outputs": [],
   "source": [
    "##check account balance\n",
    "##check existing orders\n",
    "##check tracking price\n",
    "##check status\n",
    "##if no orders and available balance:\n",
    "### pull market prices\n",
    "### input buy_order(tracking_price * (1-req))\n",
    "### status = buy\n",
    "###elif order and no available balance:\n",
    "### if order is buy:\n",
    "###     input sell_ordeR(tracking_price) * (1*req)\n",
    "### else:\n",
    "###.    status = sell\n",
    "###else if no_order and no available_balance:\n",
    "### db.send(\"fcked\")\n",
    "### sleep(5mins)"
   ]
  },
  {
   "cell_type": "code",
   "execution_count": 1,
   "id": "8f37a734",
   "metadata": {},
   "outputs": [],
   "source": [
    "import requests\n",
    "import pandas as pd\n",
    "from datetime import datetime, timedelta\n",
    "from dotenv import load_dotenv\n",
    "load_dotenv()\n",
    "import os\n",
    "bearer = os.getenv(\"TWITTERBEARER\")"
   ]
  },
  {
   "cell_type": "code",
   "execution_count": null,
   "id": "eb597369",
   "metadata": {},
   "outputs": [],
   "source": [
    "https://api.twitter.com/2/tweets/counts/recent?query=ethereum"
   ]
  },
  {
   "cell_type": "code",
   "execution_count": 2,
   "id": "c1e67875",
   "metadata": {},
   "outputs": [
    {
     "name": "stdout",
     "output_type": "stream",
     "text": [
      "{\"message\":\"Unauthorized.\"}\n"
     ]
    }
   ],
   "source": [
    "accounts = \"https://api-public.sandbox.exchange.coinbase.com/accounts\"\n",
    "spot_prices = \"https://api.exchange.coinbase.com/products/product_id/ticker\"\n",
    "orders = \"https://api.exchange.coinbase.com/orders?sortedBy=created_at&sorting=desc&limit=100&status=%5B%27open%27%2C%20%27pending%27%5D\"\n",
    "\n",
    "headers = {\"Accept\": \"application/json\"}\n",
    "\n",
    "response = requests.request(\"GET\", url, headers=headers)\n",
    "\n",
    "print(response.text)"
   ]
  },
  {
   "cell_type": "code",
   "execution_count": null,
   "id": "80f85477",
   "metadata": {},
   "outputs": [],
   "source": [
    "import requests\n",
    "### order example\n",
    "url = \"https://api.exchange.coinbase.com/orders\"\n",
    "\n",
    "payload = {\n",
    "    \"profile_id\": \"default profile_id\",\n",
    "    \"type\": \"limit\",\n",
    "    \"side\": \"buy\",\n",
    "    \"stp\": \"dc\",\n",
    "    \"stop\": \"loss\",\n",
    "    \"time_in_force\": \"GTC\",\n",
    "    \"cancel_after\": \"min\",\n",
    "    \"post_only\": \"false\"\n",
    "}\n",
    "headers = {\n",
    "    \"Accept\": \"application/json\",\n",
    "    \"Content-Type\": \"application/json\"\n",
    "}\n",
    "\n",
    "response = requests.request(\"POST\", url, json=payload, headers=headers)\n",
    "\n",
    "print(response.text)"
   ]
  }
 ],
 "metadata": {
  "kernelspec": {
   "display_name": "Python 3 (ipykernel)",
   "language": "python",
   "name": "python3"
  },
  "language_info": {
   "codemirror_mode": {
    "name": "ipython",
    "version": 3
   },
   "file_extension": ".py",
   "mimetype": "text/x-python",
   "name": "python",
   "nbconvert_exporter": "python",
   "pygments_lexer": "ipython3",
   "version": "3.10.1"
  }
 },
 "nbformat": 4,
 "nbformat_minor": 5
}
